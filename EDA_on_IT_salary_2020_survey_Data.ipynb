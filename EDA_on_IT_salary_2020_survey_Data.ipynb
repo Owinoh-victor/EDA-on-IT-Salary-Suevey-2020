{
  "nbformat": 4,
  "nbformat_minor": 0,
  "metadata": {
    "colab": {
      "name": "EDA on IT salary 2020 survey Data",
      "provenance": [],
      "toc_visible": true,
      "authorship_tag": "ABX9TyNg1O3jQWfl7wRpMjc8Qmml",
      "include_colab_link": true
    },
    "kernelspec": {
      "name": "python3",
      "display_name": "Python 3"
    }
  },
  "cells": [
    {
      "cell_type": "markdown",
      "metadata": {
        "id": "view-in-github",
        "colab_type": "text"
      },
      "source": [
        "<a href=\"https://colab.research.google.com/github/Owinoh-victor/EDA-on-IT-Salary-Suevey-2020/blob/main/EDA_on_IT_salary_2020_survey_Data.ipynb\" target=\"_parent\"><img src=\"https://colab.research.google.com/assets/colab-badge.svg\" alt=\"Open In Colab\"/></a>"
      ]
    },
    {
      "cell_type": "markdown",
      "metadata": {
        "id": "kfAX5RhZhq1f"
      },
      "source": [
        "#TASK\r\n",
        "1. Data Acqusition and loading\r\n",
        "\r\n",
        "2. Data Cleansing\r\n",
        "\r\n",
        "3. DATA VIZUALIZATION\r\n",
        "\r\n",
        " 1. Categorical Salary Distribution eg Average Total Income By:\r\n",
        "\r\n",
        "      a. City\r\n",
        "\r\n",
        "      b. Age\r\n",
        "\r\n",
        "      c. Company Type\r\n",
        "\r\n",
        "      d. Gender\r\n",
        "\r\n",
        "      e. Company Size\r\n",
        "\r\n",
        "      f. Total Years of Experience\r\n",
        "\r\n",
        " 2. Technology Popularity \r\n",
        "\r\n",
        "      a. Main technology\r\n",
        "\r\n",
        "      b. Susidiary Technology\r\n",
        "\r\n",
        "      c. Popularity By Company Type\r\n",
        "\r\n",
        "      d. Poplularity By Years of Experience\r\n",
        "\r\n",
        " 3.    Salary & Technology\r\n",
        "\r\n",
        "      a. Average Total Income By position\r\n",
        "\r\n",
        "      b. Average Total Income By Main and Subsidiary technology\r\n",
        "\r\n",
        "      c. Average Total Income By Employment Status\r\n",
        "\r\n",
        " 4. Data Science Drill Down\r\n",
        "\r\n",
        "      a. What is the avarage pay per Data  Related positions\r\n",
        "\r\n",
        "      b. Best paying cities  to work as a Data Scientist\r\n",
        "\r\n",
        "      c. Data Roles Pay per technology\r\n",
        "\r\n",
        "      d. Data science pay by seniority   and years of experince\r\n",
        "\r\n",
        " 5. Impacts of Covid 19 to IT Roles\r\n",
        "\r\n",
        "      a. Job  Loss due to covid 19\r\n",
        "\r\n",
        "      b. Additional Monetary Support from Employers\r\n",
        "\r\n",
        "      c.  Shorter Working Hours due to covid 19\r\n",
        "\r\n",
        "      d.  Job  Loss by Position due to covid 19\r\n",
        "\r\n",
        " 6. Other Explorations\r\n",
        "\r\n",
        "      a. Yearly Bonus + Stock By Employment status, ageGroup & Seneority Level\r\n",
        "\r\n",
        "      b. Total  Income By Main Language at work\r\n",
        "\r\n",
        "      c. Number of Vacation Daya By Employment status\r\n",
        "       \r\n",
        "      d. Number of Vacation Daya By Company Type      "
      ]
    },
    {
      "cell_type": "code",
      "metadata": {
        "id": "C1Tdwkf2iQ0W"
      },
      "source": [
        "# packages\r\n",
        "import pandas as pd\r\n",
        "import numpy as np\r\n",
        "\r\n",
        "import matplotlib.pyplot as plt\r\n",
        "import seaborn as sns\r\n",
        "\r\n",
        "from wordcloud import WordCloud, STOPWORDS, ImageColorGenerator"
      ],
      "execution_count": null,
      "outputs": []
    },
    {
      "cell_type": "code",
      "metadata": {
        "id": "qUaYAGpQiW5x"
      },
      "source": [
        "#Load the data\r\n",
        "df_2020=pd.read_csv(\"/content/IT Salary Survey EU  2020.csv\")"
      ],
      "execution_count": null,
      "outputs": []
    },
    {
      "cell_type": "code",
      "metadata": {
        "colab": {
          "base_uri": "https://localhost:8080/",
          "height": 581
        },
        "id": "9w5RQCvEi9mu",
        "outputId": "ede8d325-830f-4a7d-8d10-f7692ef69b5e"
      },
      "source": [
        "df_2020.head()"
      ],
      "execution_count": null,
      "outputs": [
        {
          "output_type": "execute_result",
          "data": {
            "text/html": [
              "<div>\n",
              "<style scoped>\n",
              "    .dataframe tbody tr th:only-of-type {\n",
              "        vertical-align: middle;\n",
              "    }\n",
              "\n",
              "    .dataframe tbody tr th {\n",
              "        vertical-align: top;\n",
              "    }\n",
              "\n",
              "    .dataframe thead th {\n",
              "        text-align: right;\n",
              "    }\n",
              "</style>\n",
              "<table border=\"1\" class=\"dataframe\">\n",
              "  <thead>\n",
              "    <tr style=\"text-align: right;\">\n",
              "      <th></th>\n",
              "      <th>Timestamp</th>\n",
              "      <th>Age</th>\n",
              "      <th>Gender</th>\n",
              "      <th>City</th>\n",
              "      <th>Position</th>\n",
              "      <th>Total years of experience</th>\n",
              "      <th>Years of experience in Germany</th>\n",
              "      <th>Seniority level</th>\n",
              "      <th>Your main technology / programming language</th>\n",
              "      <th>Other technologies/programming languages you use often</th>\n",
              "      <th>Yearly brutto salary (without bonus and stocks) in EUR</th>\n",
              "      <th>Yearly bonus + stocks in EUR</th>\n",
              "      <th>Annual brutto salary (without bonus and stocks) one year ago. Only answer if staying in the same country</th>\n",
              "      <th>Annual bonus+stocks one year ago. Only answer if staying in same country</th>\n",
              "      <th>Number of vacation days</th>\n",
              "      <th>Employment status</th>\n",
              "      <th>Сontract duration</th>\n",
              "      <th>Main language at work</th>\n",
              "      <th>Company size</th>\n",
              "      <th>Company type</th>\n",
              "      <th>Have you lost your job due to the coronavirus outbreak?</th>\n",
              "      <th>Have you been forced to have a shorter working week (Kurzarbeit)? If yes, how many hours per week</th>\n",
              "      <th>Have you received additional monetary support from your employer due to Work From Home? If yes, how much in 2020 in EUR</th>\n",
              "    </tr>\n",
              "  </thead>\n",
              "  <tbody>\n",
              "    <tr>\n",
              "      <th>0</th>\n",
              "      <td>24/11/2020 11:14:15</td>\n",
              "      <td>26.0</td>\n",
              "      <td>Male</td>\n",
              "      <td>Munich</td>\n",
              "      <td>Software Engineer</td>\n",
              "      <td>5</td>\n",
              "      <td>3</td>\n",
              "      <td>Senior</td>\n",
              "      <td>TypeScript</td>\n",
              "      <td>Kotlin, Javascript / Typescript</td>\n",
              "      <td>80000.0</td>\n",
              "      <td>5000</td>\n",
              "      <td>75000.0</td>\n",
              "      <td>10000</td>\n",
              "      <td>30</td>\n",
              "      <td>Full-time employee</td>\n",
              "      <td>Unlimited contract</td>\n",
              "      <td>English</td>\n",
              "      <td>51-100</td>\n",
              "      <td>Product</td>\n",
              "      <td>No</td>\n",
              "      <td>NaN</td>\n",
              "      <td>NaN</td>\n",
              "    </tr>\n",
              "    <tr>\n",
              "      <th>1</th>\n",
              "      <td>24/11/2020 11:14:16</td>\n",
              "      <td>26.0</td>\n",
              "      <td>Male</td>\n",
              "      <td>Berlin</td>\n",
              "      <td>Backend Developer</td>\n",
              "      <td>7</td>\n",
              "      <td>4</td>\n",
              "      <td>Senior</td>\n",
              "      <td>Ruby</td>\n",
              "      <td>NaN</td>\n",
              "      <td>80000.0</td>\n",
              "      <td>NaN</td>\n",
              "      <td>82000.0</td>\n",
              "      <td>5000</td>\n",
              "      <td>28</td>\n",
              "      <td>Full-time employee</td>\n",
              "      <td>Unlimited contract</td>\n",
              "      <td>English</td>\n",
              "      <td>101-1000</td>\n",
              "      <td>Product</td>\n",
              "      <td>No</td>\n",
              "      <td>NaN</td>\n",
              "      <td>NaN</td>\n",
              "    </tr>\n",
              "    <tr>\n",
              "      <th>2</th>\n",
              "      <td>24/11/2020 11:14:21</td>\n",
              "      <td>29.0</td>\n",
              "      <td>Male</td>\n",
              "      <td>Berlin</td>\n",
              "      <td>Software Engineer</td>\n",
              "      <td>12</td>\n",
              "      <td>6</td>\n",
              "      <td>Lead</td>\n",
              "      <td>Javascript / Typescript</td>\n",
              "      <td>Javascript / Typescript, Docker</td>\n",
              "      <td>120000.0</td>\n",
              "      <td>120000</td>\n",
              "      <td>100000.0</td>\n",
              "      <td>100000</td>\n",
              "      <td>30</td>\n",
              "      <td>Self-employed (freelancer)</td>\n",
              "      <td>Temporary contract</td>\n",
              "      <td>English</td>\n",
              "      <td>101-1000</td>\n",
              "      <td>Product</td>\n",
              "      <td>Yes</td>\n",
              "      <td>NaN</td>\n",
              "      <td>NaN</td>\n",
              "    </tr>\n",
              "    <tr>\n",
              "      <th>3</th>\n",
              "      <td>24/11/2020 11:15:24</td>\n",
              "      <td>28.0</td>\n",
              "      <td>Male</td>\n",
              "      <td>Berlin</td>\n",
              "      <td>Frontend Developer</td>\n",
              "      <td>4</td>\n",
              "      <td>1</td>\n",
              "      <td>Junior</td>\n",
              "      <td>Javascript</td>\n",
              "      <td>NaN</td>\n",
              "      <td>54000.0</td>\n",
              "      <td>NaN</td>\n",
              "      <td>NaN</td>\n",
              "      <td>NaN</td>\n",
              "      <td>24</td>\n",
              "      <td>Full-time employee</td>\n",
              "      <td>Unlimited contract</td>\n",
              "      <td>English</td>\n",
              "      <td>51-100</td>\n",
              "      <td>Startup</td>\n",
              "      <td>No</td>\n",
              "      <td>NaN</td>\n",
              "      <td>NaN</td>\n",
              "    </tr>\n",
              "    <tr>\n",
              "      <th>4</th>\n",
              "      <td>24/11/2020 11:15:46</td>\n",
              "      <td>37.0</td>\n",
              "      <td>Male</td>\n",
              "      <td>Berlin</td>\n",
              "      <td>Backend Developer</td>\n",
              "      <td>17</td>\n",
              "      <td>6</td>\n",
              "      <td>Senior</td>\n",
              "      <td>C# .NET</td>\n",
              "      <td>.NET, SQL, AWS, Docker</td>\n",
              "      <td>62000.0</td>\n",
              "      <td>NaN</td>\n",
              "      <td>62000.0</td>\n",
              "      <td>NaN</td>\n",
              "      <td>29</td>\n",
              "      <td>Full-time employee</td>\n",
              "      <td>Unlimited contract</td>\n",
              "      <td>English</td>\n",
              "      <td>101-1000</td>\n",
              "      <td>Product</td>\n",
              "      <td>No</td>\n",
              "      <td>NaN</td>\n",
              "      <td>NaN</td>\n",
              "    </tr>\n",
              "  </tbody>\n",
              "</table>\n",
              "</div>"
            ],
            "text/plain": [
              "             Timestamp  ...  Have you received additional monetary support from your employer due to Work From Home? If yes, how much in 2020 in EUR\n",
              "0  24/11/2020 11:14:15  ...                                                NaN                                                                      \n",
              "1  24/11/2020 11:14:16  ...                                                NaN                                                                      \n",
              "2  24/11/2020 11:14:21  ...                                                NaN                                                                      \n",
              "3  24/11/2020 11:15:24  ...                                                NaN                                                                      \n",
              "4  24/11/2020 11:15:46  ...                                                NaN                                                                      \n",
              "\n",
              "[5 rows x 23 columns]"
            ]
          },
          "metadata": {
            "tags": []
          },
          "execution_count": 4
        }
      ]
    },
    {
      "cell_type": "markdown",
      "metadata": {
        "id": "OWyeNW1uji5D"
      },
      "source": [
        "#Checking for Columns and Data types"
      ]
    },
    {
      "cell_type": "code",
      "metadata": {
        "colab": {
          "base_uri": "https://localhost:8080/"
        },
        "id": "EiLiTGHpja7W",
        "outputId": "1da43bf8-b4a2-4d5f-865c-69ab56e0c73e"
      },
      "source": [
        "df_2020.info()"
      ],
      "execution_count": null,
      "outputs": [
        {
          "output_type": "stream",
          "text": [
            "<class 'pandas.core.frame.DataFrame'>\n",
            "RangeIndex: 1253 entries, 0 to 1252\n",
            "Data columns (total 23 columns):\n",
            " #   Column                                                                                                                   Non-Null Count  Dtype  \n",
            "---  ------                                                                                                                   --------------  -----  \n",
            " 0   Timestamp                                                                                                                1253 non-null   object \n",
            " 1   Age                                                                                                                      1226 non-null   float64\n",
            " 2   Gender                                                                                                                   1243 non-null   object \n",
            " 3   City                                                                                                                     1253 non-null   object \n",
            " 4   Position                                                                                                                 1247 non-null   object \n",
            " 5   Total years of experience                                                                                                1237 non-null   object \n",
            " 6   Years of experience in Germany                                                                                           1221 non-null   object \n",
            " 7   Seniority level                                                                                                          1241 non-null   object \n",
            " 8   Your main technology / programming language                                                                              1126 non-null   object \n",
            " 9   Other technologies/programming languages you use often                                                                   1096 non-null   object \n",
            " 10  Yearly brutto salary (without bonus and stocks) in EUR                                                                   1253 non-null   float64\n",
            " 11  Yearly bonus + stocks in EUR                                                                                             829 non-null    object \n",
            " 12  Annual brutto salary (without bonus and stocks) one year ago. Only answer if staying in the same country                 885 non-null    float64\n",
            " 13  Annual bonus+stocks one year ago. Only answer if staying in same country                                                 614 non-null    object \n",
            " 14  Number of vacation days                                                                                                  1185 non-null   object \n",
            " 15  Employment status                                                                                                        1236 non-null   object \n",
            " 16  Сontract duration                                                                                                        1224 non-null   object \n",
            " 17  Main language at work                                                                                                    1237 non-null   object \n",
            " 18  Company size                                                                                                             1235 non-null   object \n",
            " 19  Company type                                                                                                             1228 non-null   object \n",
            " 20  Have you lost your job due to the coronavirus outbreak?                                                                  1233 non-null   object \n",
            " 21  Have you been forced to have a shorter working week (Kurzarbeit)? If yes, how many hours per week                        373 non-null    float64\n",
            " 22  Have you received additional monetary support from your employer due to Work From Home? If yes, how much in 2020 in EUR  462 non-null    object \n",
            "dtypes: float64(4), object(19)\n",
            "memory usage: 225.3+ KB\n"
          ],
          "name": "stdout"
        }
      ]
    },
    {
      "cell_type": "code",
      "metadata": {
        "id": "TFtk_9YUj2-M"
      },
      "source": [
        "# features we ignore in the following\r\n",
        "features_not_used = ['Timestamp',\r\n",
        "                     'Annual brutto salary (without bonus and stocks) one year ago. Only answer if staying in the same country',\r\n",
        "                     'Annual bonus+stocks one year ago. Only answer if staying in same country']\r\n",
        "\r\n",
        " # rename columns\r\n",
        "df_2020.rename(columns = {'Position ':'Position'}, inplace = True)\r\n",
        "\r\n",
        " # categorical features\r\n",
        "features_cat = ['Gender', 'City', 'Position',\r\n",
        "       'Total years of experience', 'Years of experience in Germany',\r\n",
        "       'Seniority level', 'Your main technology / programming language',\r\n",
        "       'Other technologies/programming languages you use often',\r\n",
        "       'Number of vacation days',\r\n",
        "       'Employment status', 'Сontract duration',\r\n",
        "       'Main language at work', 'Company size', 'Company type',\r\n",
        "       'Have you lost your job due to the coronavirus outbreak?',\r\n",
        "       'Have you been forced to have a shorter working week (Kurzarbeit)? If yes, how many hours per week',\r\n",
        "       'Have you received additional monetary support from your employer due to Work From Home? If yes, how much in 2020 in EUR']\r\n"
      ],
      "execution_count": null,
      "outputs": []
    },
    {
      "cell_type": "markdown",
      "metadata": {
        "id": "h5I-O3Wik9T3"
      },
      "source": [
        "**REMARKS:** A few features above seem rather numerical than categorical, e. g. Number of vacation days. However, there are several string entries in those columns. Here we would need a more in depth data cleaning"
      ]
    },
    {
      "cell_type": "code",
      "metadata": {
        "colab": {
          "base_uri": "https://localhost:8080/"
        },
        "id": "0y-WUCpNk8KO",
        "outputId": "a27af409-a5b8-427b-cf40-a37480f51ee8"
      },
      "source": [
        "# look at an example of a messy \"numerical\" columns\r\n",
        "df_2020['Number of vacation days'].value_counts()"
      ],
      "execution_count": null,
      "outputs": [
        {
          "output_type": "execute_result",
          "data": {
            "text/plain": [
              "30                                              488\n",
              "28                                              233\n",
              "27                                              102\n",
              "25                                               91\n",
              "26                                               71\n",
              "24                                               67\n",
              "29                                               24\n",
              "20                                               13\n",
              "21                                               10\n",
              "32                                                8\n",
              "22                                                8\n",
              "31                                                8\n",
              "35                                                5\n",
              "36                                                5\n",
              "0                                                 4\n",
              "40                                                4\n",
              "23                                                4\n",
              "14                                                3\n",
              "33                                                3\n",
              "unlimited                                         3\n",
              "45                                                3\n",
              "unlimited                                         2\n",
              "12                                                2\n",
              "15                                                2\n",
              "Unlimited                                         2\n",
              "50                                                1\n",
              "3                                                 1\n",
              "37                                                1\n",
              "24 labour days                                    1\n",
              "5                                                 1\n",
              "1                                                 1\n",
              "10                                                1\n",
              "38                                                1\n",
              "Unlimited                                         1\n",
              "34                                                1\n",
              "23+                                               1\n",
              "60                                                1\n",
              "99                                                1\n",
              "37.5                                              1\n",
              "39                                                1\n",
              "365                                               1\n",
              "30 in contract (but theoretically unlimited)      1\n",
              "16                                                1\n",
              "~25                                               1\n",
              "(no idea)                                         1\n",
              "Name: Number of vacation days, dtype: int64"
            ]
          },
          "metadata": {
            "tags": []
          },
          "execution_count": 8
        }
      ]
    },
    {
      "cell_type": "markdown",
      "metadata": {
        "id": "j8dpXxAnljAe"
      },
      "source": [
        "**NOTE:** We'll fix that specific column later during data cleaning"
      ]
    },
    {
      "cell_type": "code",
      "metadata": {
        "id": "MGoddtOql_oh"
      },
      "source": [
        "# numeric features\r\n",
        "features_num = ['Age',\r\n",
        "                'Yearly brutto salary (without bonus and stocks) in EUR',\r\n",
        "                'Yearly bonus + stocks in EUR',]"
      ],
      "execution_count": null,
      "outputs": []
    },
    {
      "cell_type": "code",
      "metadata": {
        "colab": {
          "base_uri": "https://localhost:8080/"
        },
        "id": "PrjpCEaKkP52",
        "outputId": "09b38b6c-21b8-443d-fbbe-eef848298c4a"
      },
      "source": [
        "# check if we have captured all features\r\n",
        "len(features_cat + features_num + features_not_used) - len(df_2020.columns)"
      ],
      "execution_count": null,
      "outputs": [
        {
          "output_type": "execute_result",
          "data": {
            "text/plain": [
              "0"
            ]
          },
          "metadata": {
            "tags": []
          },
          "execution_count": 11
        }
      ]
    },
    {
      "cell_type": "markdown",
      "metadata": {
        "id": "89cB94D4mNA_"
      },
      "source": [
        "Yep, all good! Lets now proceed to Data Cleaning"
      ]
    },
    {
      "cell_type": "markdown",
      "metadata": {
        "id": "od0y_JN0mfZn"
      },
      "source": [
        "#2. DATA CLEANING"
      ]
    },
    {
      "cell_type": "markdown",
      "metadata": {
        "id": "L17pNA4OnIB5"
      },
      "source": [
        "Missing values"
      ]
    },
    {
      "cell_type": "code",
      "metadata": {
        "id": "qVHKIfuQmK9s"
      },
      "source": [
        "# fill missing values\r\n",
        "\r\n",
        "# >>> categorical features\r\n",
        "missing_text = '_MISSING_'\r\n",
        "df_2020[features_cat] = df_2020[features_cat].fillna(missing_text)\r\n",
        "\r\n",
        "# >>> numerical features\r\n",
        "missing_num = -1\r\n",
        "df_2020[features_num] = df_2020[features_num].fillna(missing_num)"
      ],
      "execution_count": null,
      "outputs": []
    },
    {
      "cell_type": "markdown",
      "metadata": {
        "id": "hiJH8Fi-nHEx"
      },
      "source": [
        "Outliers"
      ]
    },
    {
      "cell_type": "code",
      "metadata": {
        "colab": {
          "base_uri": "https://localhost:8080/",
          "height": 545
        },
        "id": "8OIFlAMTnRwp",
        "outputId": "da8257a5-a37f-4bc9-e0a5-18a81b1a136d"
      },
      "source": [
        "# check for outliers\r\n",
        "plt.boxplot(np.log10(df_2020['Yearly brutto salary (without bonus and stocks) in EUR']))\r\n",
        "plt.title('Yearly brutto salary (without bonus and stocks) in EUR')\r\n",
        "plt.ylabel('log10(Salary)')\r\n",
        "plt.grid()\r\n",
        "plt.show()\r\n",
        "\r\n",
        "# remove very high values\r\n",
        "cut_point = 500000\r\n",
        "df_2020 = df_2020[df_2020['Yearly brutto salary (without bonus and stocks) in EUR'] <= cut_point]\r\n",
        "plt.boxplot(df_2020['Yearly brutto salary (without bonus and stocks) in EUR'])\r\n",
        "plt.title('After removing outliers')\r\n",
        "plt.ylabel('Salary')\r\n",
        "plt.grid()\r\n",
        "plt.show()"
      ],
      "execution_count": null,
      "outputs": [
        {
          "output_type": "display_data",
          "data": {
            "image/png": "[encoded data removed]",
            "text/plain": [
              "<Figure size 432x288 with 1 Axes>"
            ]
          },
          "metadata": {
            "tags": [],
            "needs_background": "light"
          }
        },
        {
          "output_type": "display_data",
          "data": {
            "image/png": "[encoded data removed]",
            "text/plain": [
              "<Figure size 432x288 with 1 Axes>"
            ]
          },
          "metadata": {
            "tags": [],
            "needs_background": "light"
          }
        }
      ]
    },
    {
      "cell_type": "markdown",
      "metadata": {
        "id": "fCKoNTrVrB0N"
      },
      "source": [
        "Clean strings"
      ]
    },
    {
      "cell_type": "code",
      "metadata": {
        "id": "PnCCmf8PnnWY"
      },
      "source": [
        "# string cleaning (remove redundant spaces and convert to upper case)\r\n",
        "# => reduce risk of \"hidden\" duplicates\r\n",
        "def clean_string(x):\r\n",
        "    return x.strip().upper()\r\n",
        "\r\n",
        "features_for_string_cleaning = ['City', 'Position', 'Employment status',\r\n",
        "                                'Your main technology / programming language',\r\n",
        "                                'Other technologies/programming languages you use often',\r\n",
        "                                'Seniority level',\r\n",
        "                                'Have you received additional monetary support from your employer due to Work From Home? If yes, how much in 2020 in EUR',\r\n",
        "                                'Number of vacation days']\r\n",
        "\r\n",
        "for f in features_for_string_cleaning:\r\n",
        "    df_2020[f] = df_2020[f].apply(clean_string)"
      ],
      "execution_count": null,
      "outputs": []
    },
    {
      "cell_type": "markdown",
      "metadata": {
        "id": "yPU1tXXVrbha"
      },
      "source": [
        "Reduce number of levels"
      ]
    },
    {
      "cell_type": "code",
      "metadata": {
        "colab": {
          "base_uri": "https://localhost:8080/"
        },
        "id": "jleXwvFQrco3",
        "outputId": "755b3f49-57cd-420e-91b8-d17a65900002"
      },
      "source": [
        "# reduce number of levels: \"Position\"\r\n",
        "current_feature = 'Position'\r\n",
        "print('ORIGINAL:', current_feature)\r\n",
        "temp_count = df_2020[current_feature].value_counts()\r\n",
        "print(temp_count)\r\n",
        "\r\n",
        "# reduce to levels that occur at least freq_min times\r\n",
        "freq_min = 3\r\n",
        "keep_levels = list(temp_count[temp_count.values>=freq_min].index)\r\n",
        "df_2020[current_feature] = df_2020[current_feature].where(df_2020[current_feature].isin(keep_levels), '_OTHER_')\r\n",
        "print('\\nREDUCED TO:')\r\n",
        "print(df_2020[current_feature].value_counts())"
      ],
      "execution_count": null,
      "outputs": [
        {
          "output_type": "stream",
          "text": [
            "ORIGINAL: Position\n",
            "SOFTWARE ENGINEER                             387\n",
            "BACKEND DEVELOPER                             174\n",
            "DATA SCIENTIST                                110\n",
            "FRONTEND DEVELOPER                             88\n",
            "QA ENGINEER                                    71\n",
            "                                             ... \n",
            "STUDENT, SOFTWARE DEVELOPER, DATA ENGINEER      1\n",
            "BANKER                                          1\n",
            "PROFESSOR                                       1\n",
            "QA LEAD                                         1\n",
            "XR DEVELOPER                                    1\n",
            "Name: Position, Length: 134, dtype: int64\n",
            "\n",
            "REDUCED TO:\n",
            "SOFTWARE ENGINEER      387\n",
            "BACKEND DEVELOPER      174\n",
            "_OTHER_                115\n",
            "DATA SCIENTIST         110\n",
            "FRONTEND DEVELOPER      88\n",
            "QA ENGINEER             71\n",
            "DEVOPS                  57\n",
            "MOBILE DEVELOPER        53\n",
            "ML ENGINEER             41\n",
            "PRODUCT MANAGER         39\n",
            "DATA ENGINEER           26\n",
            "DESIGNER (UI/UX)        16\n",
            "ENGINEERING MANAGER     11\n",
            "DATA ANALYST            11\n",
            "PROJECT MANAGER          6\n",
            "_MISSING_                5\n",
            "CTO                      5\n",
            "TEAM LEAD                4\n",
            "SOFTWARE ARCHITECT       4\n",
            "SRE                      4\n",
            "CONSULTANT               4\n",
            "FULLSTACK DEVELOPER      4\n",
            "SUPPORT ENGINEER         3\n",
            "SECURITY ENGINEER        3\n",
            "HARDWARE ENGINEER        3\n",
            "SOLUTIONS ARCHITECT      3\n",
            "BUSINESS ANALYST         3\n",
            "Name: Position, dtype: int64\n"
          ],
          "name": "stdout"
        }
      ]
    },
    {
      "cell_type": "markdown",
      "metadata": {
        "id": "n9CCs-qyr5Zy"
      },
      "source": [
        "reduce number of levels: \"Seniority level\""
      ]
    },
    {
      "cell_type": "code",
      "metadata": {
        "colab": {
          "base_uri": "https://localhost:8080/"
        },
        "id": "46-S7Bddr-SM",
        "outputId": "c27ca9d8-8a6e-44e8-8f80-1772f8cd8ae0"
      },
      "source": [
        "# reduce number of levels: \"Seniority level\"\r\n",
        "current_feature = 'Seniority level'\r\n",
        "print('ORIGINAL:', current_feature)\r\n",
        "temp_count = df_2020[current_feature].value_counts()\r\n",
        "print(temp_count)\r\n",
        "\r\n",
        "# reduce to levels that occur at least freq_min times\r\n",
        "freq_min = 3\r\n",
        "keep_levels = list(temp_count[temp_count.values>=freq_min].index)\r\n",
        "df_2020[current_feature] = df_2020[current_feature].where(df_2020[current_feature].isin(keep_levels), '_OTHER_')\r\n",
        "print('\\nREDUCED TO:')\r\n",
        "print(df_2020[current_feature].value_counts())"
      ],
      "execution_count": null,
      "outputs": [
        {
          "output_type": "stream",
          "text": [
            "ORIGINAL: Seniority level\n",
            "SENIOR                                      564\n",
            "MIDDLE                                      365\n",
            "LEAD                                        166\n",
            "JUNIOR                                       79\n",
            "HEAD                                         44\n",
            "_MISSING_                                    11\n",
            "PRINCIPAL                                     3\n",
            "NO LEVEL                                      2\n",
            "STUDENT                                       2\n",
            "INTERN                                        2\n",
            "C-LEVEL                                       1\n",
            "WORKING STUDENT                               1\n",
            "WORK CENTER MANAGER                           1\n",
            "MANAGER                                       1\n",
            "C-LEVEL EXECUTIVE MANAGER                     1\n",
            "SELF EMPLOYED                                 1\n",
            "ENTRY LEVEL                                   1\n",
            "VP                                            1\n",
            "CTO                                           1\n",
            "NO IDEA, THERE ARE NO RANGES IN THE FIRM      1\n",
            "KEY                                           1\n",
            "DIRECTOR                                      1\n",
            "Name: Seniority level, dtype: int64\n",
            "\n",
            "REDUCED TO:\n",
            "SENIOR       564\n",
            "MIDDLE       365\n",
            "LEAD         166\n",
            "JUNIOR        79\n",
            "HEAD          44\n",
            "_OTHER_       18\n",
            "_MISSING_     11\n",
            "PRINCIPAL      3\n",
            "Name: Seniority level, dtype: int64\n"
          ],
          "name": "stdout"
        }
      ]
    },
    {
      "cell_type": "code",
      "metadata": {
        "colab": {
          "base_uri": "https://localhost:8080/"
        },
        "id": "-PLN8ni_sM9i",
        "outputId": "8e023b16-9064-4924-ab2c-36b05fe21860"
      },
      "source": [
        "# reduce number of levels: \"Main language at work\"\r\n",
        "current_feature = 'Main language at work'\r\n",
        "\r\n",
        "# manual adjustment first\r\n",
        "df_2020[current_feature].loc[df_2020[current_feature]=='Русский'] = 'Russian'\r\n",
        "\r\n",
        "print('ORIGINAL:', current_feature)\r\n",
        "temp_count = df_2020[current_feature].value_counts()\r\n",
        "print(temp_count)\r\n",
        "\r\n",
        "# reduce to levels that occur at least freq_min times\r\n",
        "freq_min = 3\r\n",
        "keep_levels = list(temp_count[temp_count.values>=freq_min].index)\r\n",
        "df_2020[current_feature] = df_2020[current_feature].where(df_2020[current_feature].isin(keep_levels), '_OTHER_')\r\n",
        "print('\\nREDUCED TO:')\r\n",
        "print(df_2020[current_feature].value_counts())"
      ],
      "execution_count": null,
      "outputs": [
        {
          "output_type": "stream",
          "text": [
            "ORIGINAL: Main language at work\n",
            "English               1018\n",
            "German                 186\n",
            "_MISSING_               15\n",
            "Russian                 14\n",
            "Spanish                  3\n",
            "Italian                  3\n",
            "Polish                   2\n",
            "Czech                    2\n",
            "English and German       2\n",
            "50/50                    1\n",
            "Russian, English         1\n",
            "both                     1\n",
            "Deuglisch                1\n",
            "French                   1\n",
            "Name: Main language at work, dtype: int64\n",
            "\n",
            "REDUCED TO:\n",
            "English      1018\n",
            "German        186\n",
            "_MISSING_      15\n",
            "Russian        14\n",
            "_OTHER_        11\n",
            "Spanish         3\n",
            "Italian         3\n",
            "Name: Main language at work, dtype: int64\n"
          ],
          "name": "stdout"
        },
        {
          "output_type": "stream",
          "text": [
            "/usr/local/lib/python3.6/dist-packages/pandas/core/indexing.py:670: SettingWithCopyWarning: \n",
            "A value is trying to be set on a copy of a slice from a DataFrame\n",
            "\n",
            "See the caveats in the documentation: https://pandas.pydata.org/pandas-docs/stable/user_guide/indexing.html#returning-a-view-versus-a-copy\n",
            "  iloc._setitem_with_indexer(indexer, value)\n"
          ],
          "name": "stderr"
        }
      ]
    },
    {
      "cell_type": "code",
      "metadata": {
        "colab": {
          "base_uri": "https://localhost:8080/"
        },
        "id": "AIGH5Q17sXqz",
        "outputId": "dc589978-7f96-44e7-bc2a-f37e24aa3ebe"
      },
      "source": [
        "# reduce number of levels: \"Employment status\"\r\n",
        "current_feature = 'Employment status'\r\n",
        "print('ORIGINAL:', current_feature)\r\n",
        "temp_count = df_2020[current_feature].value_counts()\r\n",
        "print(temp_count)\r\n",
        "\r\n",
        "# reduce to levels that occur at least freq_min times\r\n",
        "freq_min = 2\r\n",
        "keep_levels = list(temp_count[temp_count.values>=freq_min].index)\r\n",
        "df_2020[current_feature] = df_2020[current_feature].where(df_2020[current_feature].isin(keep_levels), '_OTHER_')\r\n",
        "print('\\nREDUCED TO:')\r\n",
        "print(df_2020[current_feature].value_counts())"
      ],
      "execution_count": null,
      "outputs": [
        {
          "output_type": "stream",
          "text": [
            "ORIGINAL: Employment status\n",
            "FULL-TIME EMPLOYEE                                                                 1188\n",
            "SELF-EMPLOYED (FREELANCER)                                                           28\n",
            "_MISSING_                                                                            16\n",
            "PART-TIME EMPLOYEE                                                                    8\n",
            "FOUNDER                                                                               3\n",
            "WORKING STUDENT                                                                       2\n",
            "FULL-TIME, BUT 32 HOURS PER WEEK (IT WAS MY REQUEST, I'M A STUDENT)                   1\n",
            "WERKSTUDENT                                                                           1\n",
            "INTERN                                                                                1\n",
            "FULL-TIME POSITION, PART-TIME POSITION, & SELF-EMPLOYED (FREELANCING, TUTORING)       1\n",
            "COMPANY DIRECTOR                                                                      1\n",
            "Name: Employment status, dtype: int64\n",
            "\n",
            "REDUCED TO:\n",
            "FULL-TIME EMPLOYEE            1188\n",
            "SELF-EMPLOYED (FREELANCER)      28\n",
            "_MISSING_                       16\n",
            "PART-TIME EMPLOYEE               8\n",
            "_OTHER_                          5\n",
            "FOUNDER                          3\n",
            "WORKING STUDENT                  2\n",
            "Name: Employment status, dtype: int64\n"
          ],
          "name": "stdout"
        }
      ]
    },
    {
      "cell_type": "code",
      "metadata": {
        "colab": {
          "base_uri": "https://localhost:8080/"
        },
        "id": "Uk-uRv9Bse4t",
        "outputId": "58162ae5-afc5-4ef3-e192-0bcf2f2ea71c"
      },
      "source": [
        "# reduce number of levels: \"Company type\"\r\n",
        "current_feature = 'Company type'\r\n",
        "print('ORIGINAL:', current_feature)\r\n",
        "temp_count = df_2020[current_feature].value_counts()\r\n",
        "print(temp_count)\r\n",
        "\r\n",
        "# reduce to levels that occur at least freq_min times\r\n",
        "freq_min = 3\r\n",
        "keep_levels = list(temp_count[temp_count.values>=freq_min].index)\r\n",
        "df_2020[current_feature] = df_2020[current_feature].where(df_2020[current_feature].isin(keep_levels), '_OTHER_')\r\n",
        "print('\\nREDUCED TO:')\r\n",
        "print(df_2020[current_feature].value_counts())"
      ],
      "execution_count": null,
      "outputs": [
        {
          "output_type": "stream",
          "text": [
            "ORIGINAL: Company type\n",
            "Product                759\n",
            "Startup                251\n",
            "Consulting / Agency    142\n",
            "_MISSING_               24\n",
            "Bank                     5\n",
            "                      ... \n",
            "Non-tech retail          1\n",
            "Corporation              1\n",
            "Research institute       1\n",
            "Financial                1\n",
            "Education                1\n",
            "Name: Company type, Length: 64, dtype: int64\n",
            "\n",
            "REDUCED TO:\n",
            "Product                759\n",
            "Startup                251\n",
            "Consulting / Agency    142\n",
            "_OTHER_                 63\n",
            "_MISSING_               24\n",
            "Bank                     5\n",
            "E-commerce               3\n",
            "Media                    3\n",
            "Name: Company type, dtype: int64\n"
          ],
          "name": "stdout"
        }
      ]
    },
    {
      "cell_type": "code",
      "metadata": {
        "colab": {
          "base_uri": "https://localhost:8080/"
        },
        "id": "4sqaeLlUsmgA",
        "outputId": "32358a23-1ec9-4a88-9917-bb06232a0b10"
      },
      "source": [
        "# reduce number of levels: \"Have you received additional monetary support...\"\r\n",
        "current_feature = 'Have you received additional monetary support from your employer due to Work From Home? If yes, how much in 2020 in EUR'\r\n",
        "print('ORIGINAL:', current_feature)\r\n",
        "temp_count = df_2020[current_feature].value_counts()\r\n",
        "print(temp_count)\r\n",
        "\r\n",
        "# reduce to levels that occur at least freq_min times\r\n",
        "freq_min = 2\r\n",
        "keep_levels = list(temp_count[temp_count.values>=freq_min].index)\r\n",
        "df_2020[current_feature] = df_2020[current_feature].where(df_2020[current_feature].isin(keep_levels), '_OTHER_')\r\n",
        "print('\\nREDUCED TO:')\r\n",
        "print(df_2020[current_feature].value_counts())"
      ],
      "execution_count": null,
      "outputs": [
        {
          "output_type": "stream",
          "text": [
            "ORIGINAL: Have you received additional monetary support from your employer due to Work From Home? If yes, how much in 2020 in EUR\n",
            "_MISSING_                                                  790\n",
            "0                                                          160\n",
            "500                                                         47\n",
            "NO                                                          40\n",
            "1000                                                        23\n",
            "600                                                         20\n",
            "200                                                         19\n",
            "1500                                                        19\n",
            "300                                                         18\n",
            "700                                                         14\n",
            "400                                                         12\n",
            "250                                                          7\n",
            "800                                                          7\n",
            "2000                                                         5\n",
            "100                                                          5\n",
            "40                                                           4\n",
            "1100                                                         4\n",
            "1200                                                         3\n",
            "900                                                          3\n",
            "150                                                          3\n",
            "1600                                                         2\n",
            "180                                                          2\n",
            "5000                                                         2\n",
            "350                                                          2\n",
            "650                                                          2\n",
            "750                                                          2\n",
            "1                                                            2\n",
            "850                                                          2\n",
            "YES                                                          1\n",
            "10000                                                        1\n",
            "1300                                                         1\n",
            "200 AMAZON VOUCHER                                           1\n",
            "580                                                          1\n",
            "180€                                                         1\n",
            "400 / MONTH                                                  1\n",
            "1250.29                                                      1\n",
            "75% FROM GOVERNMENT                                          1\n",
            "540                                                          1\n",
            "8000                                                         1\n",
            "50                                                           1\n",
            "550                                                          1\n",
            "1700                                                         1\n",
            "1800                                                         1\n",
            "1670                                                         1\n",
            "0,00                                                         1\n",
            "675                                                          1\n",
            "600 NETT                                                     1\n",
            "440                                                          1\n",
            "340                                                          1\n",
            "160                                                          1\n",
            "I WAS ABLE TO MOVE ALL EQUIPMENT I NEED TO WORK TO HOME      1\n",
            "1750                                                         1\n",
            "80                                                           1\n",
            "140                                                          1\n",
            "460                                                          1\n",
            "240                                                          1\n",
            "-                                                            1\n",
            "20%                                                          1\n",
            "40 EVERY MONTH                                               1\n",
            "Name: Have you received additional monetary support from your employer due to Work From Home? If yes, how much in 2020 in EUR, dtype: int64\n",
            "\n",
            "REDUCED TO:\n",
            "_MISSING_    790\n",
            "0            160\n",
            "500           47\n",
            "NO            40\n",
            "_OTHER_       31\n",
            "1000          23\n",
            "600           20\n",
            "200           19\n",
            "1500          19\n",
            "300           18\n",
            "700           14\n",
            "400           12\n",
            "250            7\n",
            "800            7\n",
            "100            5\n",
            "2000           5\n",
            "40             4\n",
            "1100           4\n",
            "150            3\n",
            "1200           3\n",
            "900            3\n",
            "850            2\n",
            "5000           2\n",
            "650            2\n",
            "1600           2\n",
            "750            2\n",
            "350            2\n",
            "1              2\n",
            "180            2\n",
            "Name: Have you received additional monetary support from your employer due to Work From Home? If yes, how much in 2020 in EUR, dtype: int64\n"
          ],
          "name": "stdout"
        }
      ]
    },
    {
      "cell_type": "code",
      "metadata": {
        "colab": {
          "base_uri": "https://localhost:8080/"
        },
        "id": "3Vnf6_yvsvMZ",
        "outputId": "7ffcddb7-919c-4cab-fa69-21465c08773b"
      },
      "source": [
        "# reduce number of levels: \"Have you lost your job due to the coronavirus outbreak?\"\r\n",
        "current_feature = 'Have you lost your job due to the coronavirus outbreak?'\r\n",
        "print('ORIGINAL:', current_feature)\r\n",
        "temp_count = df_2020[current_feature].value_counts()\r\n",
        "print(temp_count)\r\n",
        "\r\n",
        "# reduce to levels that occur at least freq_min times\r\n",
        "freq_min = 2\r\n",
        "keep_levels = list(temp_count[temp_count.values>=freq_min].index)\r\n",
        "df_2020[current_feature] = df_2020[current_feature].where(df_2020[current_feature].isin(keep_levels), '_OTHER_')\r\n",
        "print('\\nREDUCED TO:')\r\n",
        "print(df_2020[current_feature].value_counts())"
      ],
      "execution_count": null,
      "outputs": [
        {
          "output_type": "stream",
          "text": [
            "ORIGINAL: Have you lost your job due to the coronavirus outbreak?\n",
            "No                                                                                        1161\n",
            "Yes                                                                                         62\n",
            "_MISSING_                                                                                   19\n",
            "Laid off for a bit                                                                           1\n",
            "i didn't but will be looking for new one because of covid                                    1\n",
            "kurzarbeitzeit for 1.5 months                                                                1\n",
            "Leads and project inquiries have slowed down                                                 1\n",
            "No, but there was a salary cut at 10% for 3 months and then at 5% for further 3 months       1\n",
            "yes but found a new one with better pay / perks                                              1\n",
            "Have been a freelancer at the beginning of year                                              1\n",
            "Lost the job but for different reason                                                        1\n",
            "Name: Have you lost your job due to the coronavirus outbreak?, dtype: int64\n",
            "\n",
            "REDUCED TO:\n",
            "No           1161\n",
            "Yes            62\n",
            "_MISSING_      19\n",
            "_OTHER_         8\n",
            "Name: Have you lost your job due to the coronavirus outbreak?, dtype: int64\n"
          ],
          "name": "stdout"
        }
      ]
    },
    {
      "cell_type": "markdown",
      "metadata": {
        "id": "z4iB6UfatDxG"
      },
      "source": [
        "Fix vacation days"
      ]
    },
    {
      "cell_type": "code",
      "metadata": {
        "colab": {
          "base_uri": "https://localhost:8080/"
        },
        "id": "egYNkOaItEKf",
        "outputId": "772685fd-cae4-4bb0-e145-d7184bd17403"
      },
      "source": [
        "current_feature = 'Number of vacation days'\r\n",
        "# show all levels \r\n",
        "print(df_2020[current_feature].value_counts().index.tolist())"
      ],
      "execution_count": null,
      "outputs": [
        {
          "output_type": "stream",
          "text": [
            "['30', '28', '27', '25', '26', '_MISSING_', '24', '29', '20', '21', 'UNLIMITED', '31', '22', '32', '36', '23', '35', '0', '40', '14', '33', '45', '12', '15', '365', '~25', '50', '16', '37', '30 IN CONTRACT (BUT THEORETICALLY UNLIMITED)', '1', '10', '(NO IDEA)', '38', '23+', '34', '37.5', '24 LABOUR DAYS', '39', '60', '5', '3']\n"
          ],
          "name": "stdout"
        }
      ]
    },
    {
      "cell_type": "code",
      "metadata": {
        "colab": {
          "base_uri": "https://localhost:8080/"
        },
        "id": "kFm95YNstRje",
        "outputId": "39366b49-e2c4-4c7f-8637-d8aae6b056ed"
      },
      "source": [
        "# replace levels\r\n",
        "df_2020[current_feature].loc[df_2020[current_feature]=='30 IN CONTRACT (BUT THEORETICALLY UNLIMITED)'] = 'UNLIMITED'\r\n",
        "df_2020[current_feature].loc[df_2020[current_feature]=='23+'] = '23'\r\n",
        "df_2020[current_feature].loc[df_2020[current_feature]=='(NO IDEA)'] = '_MISSING_'\r\n",
        "df_2020[current_feature].loc[df_2020[current_feature]=='24 LABOUR DAYS'] = '24'\r\n",
        "df_2020[current_feature].loc[df_2020[current_feature]=='~25'] = '25'\r\n",
        "df_2020[current_feature].loc[df_2020[current_feature]=='365'] = 'UNLIMITED'"
      ],
      "execution_count": null,
      "outputs": [
        {
          "output_type": "stream",
          "text": [
            "/usr/local/lib/python3.6/dist-packages/pandas/core/indexing.py:670: SettingWithCopyWarning: \n",
            "A value is trying to be set on a copy of a slice from a DataFrame\n",
            "\n",
            "See the caveats in the documentation: https://pandas.pydata.org/pandas-docs/stable/user_guide/indexing.html#returning-a-view-versus-a-copy\n",
            "  iloc._setitem_with_indexer(indexer, value)\n"
          ],
          "name": "stderr"
        }
      ]
    },
    {
      "cell_type": "markdown",
      "metadata": {
        "id": "vOUjPUHEtb9Q"
      },
      "source": [
        "**Fix experience(s)**"
      ]
    },
    {
      "cell_type": "code",
      "metadata": {
        "colab": {
          "base_uri": "https://localhost:8080/"
        },
        "id": "Xvvlhw0rtf6T",
        "outputId": "729797bf-c3cb-44fd-eca4-50e377d3486d"
      },
      "source": [
        "current_feature = 'Total years of experience'\r\n",
        "# show all levels\r\n",
        "print(df_2020[current_feature].value_counts().index.tolist())"
      ],
      "execution_count": null,
      "outputs": [
        {
          "output_type": "stream",
          "text": [
            "['10', '5', '6', '8', '7', '4', '12', '3', '15', '9', '2', '11', '13', '14', '1', '20', '16', '_MISSING_', '18', '17', '25', '19', '0', '22', '30', '2.5', '21', '1,5', '0.8', '1.5', '4.5', '23', '27', '3.5', '6.5', '28', '15, thereof 8 as CTO', '1 (as QA Engineer) / 11 in total', '383', '6 (not as a data scientist, but as a lab scientist)', 'less than year', '7.5', '31', '29', '26', '40', '5.5', '24', '2,5']\n"
          ],
          "name": "stdout"
        }
      ]
    },
    {
      "cell_type": "code",
      "metadata": {
        "colab": {
          "base_uri": "https://localhost:8080/"
        },
        "id": "_EQLqLOZtoPU",
        "outputId": "f67fb33b-63da-486f-b35e-28ed16ff7612"
      },
      "source": [
        "# replace levels\r\n",
        "df_2020[current_feature].loc[df_2020[current_feature]=='6 (not as a data scientist, but as a lab scientist)'] = '6'\r\n",
        "df_2020[current_feature].loc[df_2020[current_feature]=='less than year'] = '1'\r\n",
        "df_2020[current_feature].loc[df_2020[current_feature]=='15, thereof 8 as CTO'] = '15'\r\n",
        "df_2020[current_feature].loc[df_2020[current_feature]=='1 (as QA Engineer) / 11 in total'] = '11'\r\n",
        "df_2020[current_feature].loc[df_2020[current_feature]=='383'] = '_MISSING_'\r\n",
        "df_2020[current_feature].loc[df_2020[current_feature]=='1,5'] = '1.5'\r\n",
        "df_2020[current_feature].loc[df_2020[current_feature]=='2,5'] = '2.5'"
      ],
      "execution_count": null,
      "outputs": [
        {
          "output_type": "stream",
          "text": [
            "/usr/local/lib/python3.6/dist-packages/pandas/core/indexing.py:670: SettingWithCopyWarning: \n",
            "A value is trying to be set on a copy of a slice from a DataFrame\n",
            "\n",
            "See the caveats in the documentation: https://pandas.pydata.org/pandas-docs/stable/user_guide/indexing.html#returning-a-view-versus-a-copy\n",
            "  iloc._setitem_with_indexer(indexer, value)\n"
          ],
          "name": "stderr"
        }
      ]
    },
    {
      "cell_type": "markdown",
      "metadata": {
        "id": "5HIakUIztuPk"
      },
      "source": [
        ""
      ]
    },
    {
      "cell_type": "code",
      "metadata": {
        "colab": {
          "base_uri": "https://localhost:8080/"
        },
        "id": "-m29L3AStzYR",
        "outputId": "64ce4095-bade-4f99-cd92-e65002ac87cf"
      },
      "source": [
        "current_feature = 'Years of experience in Germany'\r\n",
        "# show all levels\r\n",
        "print(df_2020[current_feature].value_counts().index.tolist())"
      ],
      "execution_count": null,
      "outputs": [
        {
          "output_type": "stream",
          "text": [
            "['2', '1', '3', '5', '4', '0', '6', '7', '_MISSING_', '10', '1.5', '9', '8', '0.5', '12', '2.5', '3.5', '15', '11', '20', '14', '1,5', '0,5', '13', '30', '0.25', '2,5', '19', '18', '3,5', '3 months', '0,3', '0.8', '1,7', '0.4', '0.2', '<1', '6 (not as a data scientist, but as a lab scientist)', '4 month', '< 1', 'less than year', '4 (in Switzerland), 0 (in Germany)', '25', '0.9', '-', '17', '26', '⁰', '4.5', '4,5', '2.6', '16', '0.1', '3 (in Poland)']\n"
          ],
          "name": "stdout"
        }
      ]
    },
    {
      "cell_type": "code",
      "metadata": {
        "colab": {
          "base_uri": "https://localhost:8080/"
        },
        "id": "LXH7ew1Bt4uT",
        "outputId": "5c21d80b-e97d-4f39-b7c5-84ce95eb889f"
      },
      "source": [
        "# replace levels\r\n",
        "df_2020[current_feature].loc[df_2020[current_feature]=='0,3'] = '0.3'\r\n",
        "df_2020[current_feature].loc[df_2020[current_feature]=='0,5'] = '0.5'\r\n",
        "df_2020[current_feature].loc[df_2020[current_feature]=='1,5'] = '1.5'\r\n",
        "df_2020[current_feature].loc[df_2020[current_feature]=='1,7'] = '1.7'\r\n",
        "df_2020[current_feature].loc[df_2020[current_feature]=='2,5'] = '2.5'\r\n",
        "df_2020[current_feature].loc[df_2020[current_feature]=='3,5'] = '3.5'\r\n",
        "df_2020[current_feature].loc[df_2020[current_feature]=='4,5'] = '4.5'\r\n",
        "df_2020[current_feature].loc[df_2020[current_feature]=='<1'] = '0.5'\r\n",
        "df_2020[current_feature].loc[df_2020[current_feature]=='< 1'] = '0.5'\r\n",
        "df_2020[current_feature].loc[df_2020[current_feature]=='3 months'] = '0.25'\r\n",
        "df_2020[current_feature].loc[df_2020[current_feature]=='4 month'] = '0.33'\r\n",
        "df_2020[current_feature].loc[df_2020[current_feature]=='4 (in Switzerland), 0 (in Germany)'] = '0'\r\n",
        "df_2020[current_feature].loc[df_2020[current_feature]=='less than year'] = '0.5'\r\n",
        "df_2020[current_feature].loc[df_2020[current_feature]=='⁰'] = '_MISSING_'\r\n",
        "df_2020[current_feature].loc[df_2020[current_feature]=='-'] = '_MISSING_'\r\n",
        "df_2020[current_feature].loc[df_2020[current_feature]=='6 (not as a data scientist, but as a lab scientist)'] = '6'\r\n",
        "df_2020[current_feature].loc[df_2020[current_feature]=='3 (in Poland)'] = '0'"
      ],
      "execution_count": null,
      "outputs": [
        {
          "output_type": "stream",
          "text": [
            "/usr/local/lib/python3.6/dist-packages/pandas/core/indexing.py:670: SettingWithCopyWarning: \n",
            "A value is trying to be set on a copy of a slice from a DataFrame\n",
            "\n",
            "See the caveats in the documentation: https://pandas.pydata.org/pandas-docs/stable/user_guide/indexing.html#returning-a-view-versus-a-copy\n",
            "  iloc._setitem_with_indexer(indexer, value)\n"
          ],
          "name": "stderr"
        }
      ]
    },
    {
      "cell_type": "markdown",
      "metadata": {
        "id": "M1TQ5l4dt-pV"
      },
      "source": [
        "**Fix bonus/stocks**"
      ]
    },
    {
      "cell_type": "code",
      "metadata": {
        "colab": {
          "base_uri": "https://localhost:8080/"
        },
        "id": "NCqyvsePt4wl",
        "outputId": "a833304b-8cb7-4a1d-dcf3-dcc06ff432ba"
      },
      "source": [
        "current_feature = 'Yearly bonus + stocks in EUR'\r\n",
        "# show all levels\r\n",
        "print(df_2020[current_feature].value_counts().index.tolist())"
      ],
      "execution_count": null,
      "outputs": [
        {
          "output_type": "stream",
          "text": [
            "[-1, '0', '5000', '10000', '2000', '6000', '1000', '3000', '20000', '4000', '15000', '7000', '8000', '70000', '75000', '12000', '30000', '101', '100000', '1500', '40000', '60000', '50000', '25000', '80000', '120000', '55000', '200000', '500', '65000', '7500', '45000', '35000', '9000', '18000', '77000', '90000', '11000', '85000', '73000', '62000', '4500', '17000', '150000', '95000', '56000', '15900', '16000', '800', '78000', '13000', '14000', '72000', '6500', '2500', '99000', '5400', '19200', '37968', '5800', '6300', '5500', '106000', '96000', '8500', '38500', '47500', '60847.32', '63909', '45600', '9450', '3600', '14500', '26000', '3500', '66447', '88000', 'bvg only', '2400', '82500', '7200', '22000', '89000', '92000', '46000', '32000', '53500', '1100', '1200', '5600', '74000', '125000', '77400', '1600', '6900', '1250', '10300', '59000', '43500', '63000', '112000', '-', '450000', '107000', '1150000', '700', '84000', '86000', '70500', '67000', '43000', 'Na', '22500', 'depends', '25', '9400', 'Not sure', '28000', '2800', '20700', '15000+-', '3520', '82000', '6710', '17800', '7300', '105000', '81200', '3800', '36000', '3250', '110000', '63500', '11900', '35200', '71000', '13500', '170000', '80400', '31500', '12150', '28800', '45500', '50400', '122.13', '4300', '97000', '7100', '58000', '54000', '140000', '23000', '40950', '4250', '4700', '66500', '20240', '16320', '3400', '21000', '12500', '4400', '3375', '12', '400', '102600', '7750', '87250']\n"
          ],
          "name": "stdout"
        }
      ]
    },
    {
      "cell_type": "code",
      "metadata": {
        "colab": {
          "base_uri": "https://localhost:8080/"
        },
        "id": "JIlswytGuFqn",
        "outputId": "10df122c-1628-4b4c-b5ab-a2e3bac09c53"
      },
      "source": [
        "# replace levels\r\n",
        "df_2020[current_feature].loc[df_2020[current_feature]=='bvg only'] = -1\r\n",
        "df_2020[current_feature].loc[df_2020[current_feature]=='-'] = -1\r\n",
        "df_2020[current_feature].loc[df_2020[current_feature]=='-'] = -1\r\n",
        "df_2020[current_feature].loc[df_2020[current_feature]=='15000+-'] = 15000\r\n",
        "df_2020[current_feature].loc[df_2020[current_feature]=='Not sure'] = -1\r\n",
        "df_2020[current_feature].loc[df_2020[current_feature]=='Na'] = -1\r\n",
        "df_2020[current_feature].loc[df_2020[current_feature]=='depends'] = -1\r\n",
        "df_2020[current_feature].loc[df_2020[current_feature]=='1150000'] = -1 # seems somewhat high?\r\n",
        "\r\n",
        "# and convert to numeric\r\n",
        "df_2020[current_feature] = df_2020[current_feature].astype(float)\r\n",
        "\r\n",
        "# for the sake of simplicity we REPLACE THE MISSINGS/UNKNOWS with 0!!!\r\n",
        "df_2020[current_feature].loc[df_2020[current_feature]==-1] = 0"
      ],
      "execution_count": null,
      "outputs": [
        {
          "output_type": "stream",
          "text": [
            "/usr/local/lib/python3.6/dist-packages/pandas/core/indexing.py:670: SettingWithCopyWarning: \n",
            "A value is trying to be set on a copy of a slice from a DataFrame\n",
            "\n",
            "See the caveats in the documentation: https://pandas.pydata.org/pandas-docs/stable/user_guide/indexing.html#returning-a-view-versus-a-copy\n",
            "  iloc._setitem_with_indexer(indexer, value)\n",
            "/usr/local/lib/python3.6/dist-packages/pandas/core/indexing.py:670: SettingWithCopyWarning: \n",
            "A value is trying to be set on a copy of a slice from a DataFrame\n",
            "\n",
            "See the caveats in the documentation: https://pandas.pydata.org/pandas-docs/stable/user_guide/indexing.html#returning-a-view-versus-a-copy\n",
            "  iloc._setitem_with_indexer(indexer, value)\n"
          ],
          "name": "stderr"
        }
      ]
    },
    {
      "cell_type": "markdown",
      "metadata": {
        "id": "BooYH0M5uSpG"
      },
      "source": [
        "**Add sum of salary + bonus as new feature \"Total Income**"
      ]
    },
    {
      "cell_type": "code",
      "metadata": {
        "id": "W91E5iFNuOHz"
      },
      "source": [
        "df_2020['Total Income (Salary+Bonus)'] = df_2020['Yearly brutto salary (without bonus and stocks) in EUR'] + df_2020['Yearly bonus + stocks in EUR']"
      ],
      "execution_count": null,
      "outputs": []
    },
    {
      "cell_type": "code",
      "metadata": {
        "id": "oE0Zju0Huegn"
      },
      "source": [
        "# update list of numerical features correspondingly!\r\n",
        "features_num.append('Total Income (Salary+Bonus)')"
      ],
      "execution_count": null,
      "outputs": []
    },
    {
      "cell_type": "code",
      "metadata": {
        "colab": {
          "base_uri": "https://localhost:8080/",
          "height": 311
        },
        "id": "DdxBFmanunar",
        "outputId": "acec9f09-15a5-4642-9ab4-96f9f2f949d0"
      },
      "source": [
        "# add also binned version of age to data frame\r\n",
        "df_2020['AgeGroup'] = pd.cut(df_2020.Age, bins=[-2,0,20,25,30,35,40,45,50,60,70])\r\n",
        "df_2020.AgeGroup.value_counts().sort_index().plot(kind='bar')\r\n",
        "plt.title('Age Groups')\r\n",
        "plt.grid()\r\n",
        "plt.show()"
      ],
      "execution_count": null,
      "outputs": [
        {
          "output_type": "display_data",
          "data": {
            "image/png": "[encoded data removed]",
            "text/plain": [
              "<Figure size 432x288 with 1 Axes>"
            ]
          },
          "metadata": {
            "tags": [],
            "needs_background": "light"
          }
        }
      ]
    },
    {
      "cell_type": "markdown",
      "metadata": {
        "id": "27MUtqNOuyAu"
      },
      "source": [
        "**NOTE:** It is important to note that (-2,0] represents the missing values"
      ]
    },
    {
      "cell_type": "markdown",
      "metadata": {
        "id": "dV4kvoQ1uyL-"
      },
      "source": [
        "**Export cleansed **"
      ]
    },
    {
      "cell_type": "code",
      "metadata": {
        "id": "_bhOVy17vIDl"
      },
      "source": [
        "# save prepared data to file\r\n",
        "df_2020.to_csv('/content/df_2020_cleaned.csv')"
      ],
      "execution_count": null,
      "outputs": []
    },
    {
      "cell_type": "markdown",
      "metadata": {
        "id": "mJRXgQkbvW37"
      },
      "source": [
        "#3. DATA VIZUALIZATION\r\n",
        "1. Categorical Salary Distribution eg Average Total Income By:\r\n",
        "\r\n",
        "      a. City\r\n",
        "\r\n",
        "      b. Age\r\n",
        "\r\n",
        "      c. Company Type\r\n",
        "\r\n",
        "      d. Gender\r\n",
        "\r\n",
        "      e. Company Size\r\n",
        "\r\n",
        "      f. Total Years of Experience\r\n",
        "\r\n",
        "2. Technology Popularity \r\n",
        "\r\n",
        "      a. Main technology\r\n",
        "\r\n",
        "      b. Susidiary Technology\r\n",
        "\r\n",
        "      c. Popularity By Copany Type\r\n",
        "\r\n",
        "      d. Poplularity By Years of Experience\r\n",
        "\r\n",
        "\r\n",
        "3.    Salary & Technology\r\n",
        "\r\n",
        "      a. Average Total Income By position\r\n",
        "\r\n",
        "      b. Average Total Income By Main and Subsidiary technology\r\n",
        "\r\n",
        "      c. Average Total Income By Employment Status\r\n",
        "\r\n",
        "4. Data Science Drill Down\r\n",
        "\r\n",
        "      a. What is the avarage pay per Data  Related positions\r\n",
        "\r\n",
        "      b. Best paying cities  to work as a Data Scientist\r\n",
        "\r\n",
        "      c. Data Roles Pay per technology\r\n",
        "\r\n",
        "      d. Data science pay by seniority   and years of experince\r\n",
        "\r\n",
        "5. Impacts of Covid 19 to IT Roles\r\n",
        "\r\n",
        "      a. Job  Loss due to covid 19\r\n",
        "\r\n",
        "      b. Additional Monetary Support from Employers\r\n",
        "\r\n",
        "      c.  Shorter Working Hours due to covid 19\r\n",
        "\r\n",
        "      d.  Job  Loss by Position due to covid 19\r\n",
        "\r\n",
        "6.Other Exploration\r\n",
        "\r\n",
        "    a. Yearly Bonus + Stock By Employment status, ageGroup & Seneority Level\r\n",
        "    \r\n",
        "    b. Total  Income By Main Language at work\r\n",
        "\r\n",
        "    c. Number of Vacation Daya By Employment status\r\n",
        "    \r\n",
        "    d. Number of Vacation Daya By Company Type     "
      ]
    },
    {
      "cell_type": "markdown",
      "metadata": {
        "id": "VeOEkyLphIPa"
      },
      "source": [
        "**NOTE:** FROM HERE, I WOULD LIKE TO PROCEED WITH THE VIZUALIZATION IN A NEW TOOL THAT  BEST SUITS MY OBJECTIVES. I will use  my cleansed data for the analysis.\r\n",
        "\r\n",
        "Link to my Dashboard: https://app.powerbi.com/groups/me/dashboards/565cb68a-5978-483a-88ac-2be52635960d\r\n",
        "    \r\n",
        "    "
      ]
    }
  ]
}